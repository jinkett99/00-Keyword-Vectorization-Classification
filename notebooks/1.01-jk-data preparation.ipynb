{
 "cells": [
  {
   "cell_type": "markdown",
   "id": "b889b014-27e3-4412-961e-7b74d171fe97",
   "metadata": {},
   "source": [
    "## Dependencies!"
   ]
  },
  {
   "cell_type": "code",
   "execution_count": 1,
   "id": "89519278-0076-4d4f-bb90-947cbb05a51c",
   "metadata": {},
   "outputs": [],
   "source": [
    "# add src dir to sys.path\n",
    "import sys\n",
    "sys.path.append('../src')\n",
    "# sys.path.append('../data/raw')"
   ]
  },
  {
   "cell_type": "code",
   "execution_count": 2,
   "id": "1b025e6b-731e-471f-805a-86c83a4266ad",
   "metadata": {},
   "outputs": [
    {
     "name": "stdout",
     "output_type": "stream",
     "text": [
      "['/nas-p1/dosfs/BSD/FLAD/End_User/JKYEE/IE2023/IE_project/notebooks', '/opt/python/3.9.15/lib/python39.zip', '/opt/python/3.9.15/lib/python3.9', '/opt/python/3.9.15/lib/python3.9/lib-dynload', '', '/home/jkyee/.local/lib/python3.9/site-packages', '/opt/python/3.9.15/lib/python3.9/site-packages', '../src']\n"
     ]
    }
   ],
   "source": [
    "print(sys.path)"
   ]
  },
  {
   "cell_type": "code",
   "execution_count": 3,
   "id": "15fab31e-9f4a-463d-b570-f5388552cb98",
   "metadata": {},
   "outputs": [
    {
     "name": "stderr",
     "output_type": "stream",
     "text": [
      "2024-09-10 09:57:00,768 - config - INFO - PROJ_ROOT path is: /nas-p1/dosfs/BSD/FLAD/End_User/JKYEE/IE2023/IE_project\n"
     ]
    }
   ],
   "source": [
    "# import dependencies\n",
    "import pandas as pd\n",
    "import pyreadstat\n",
    "from dataset import process_dataset, imputation_v1, load_data, create_train_test_sets"
   ]
  },
  {
   "cell_type": "markdown",
   "id": "37ac6473-d564-43b0-a666-af149d72a677",
   "metadata": {},
   "source": [
    "## Process SOE dataset to obtain website filter with TRUE labels ('B', 'C')"
   ]
  },
  {
   "cell_type": "code",
   "execution_count": 4,
   "id": "fa8426b7-344c-459b-9e89-3c93855abb57",
   "metadata": {},
   "outputs": [],
   "source": [
    "%load_ext autoreload\n",
    "%autoreload 2"
   ]
  },
  {
   "cell_type": "code",
   "execution_count": 5,
   "id": "3403c056-fbce-4a19-92d7-5521dfa89e7b",
   "metadata": {},
   "outputs": [
    {
     "name": "stderr",
     "output_type": "stream",
     "text": [
      "2024-09-10 09:57:12,863 - config - INFO - Loading dataset from /nas-p1/dosfs/BSD/FLAD/End_User/JKYEE/IE2023/IE_project/data/raw/soe22_dc.sas7bdat\n",
      "2024-09-10 09:57:13,186 - config - INFO - Saving processed dataset to /nas-p1/dosfs/BSD/FLAD/End_User/JKYEE/IE2023/IE_project/data/processed/soe2022_labelledv1.csv\n"
     ]
    }
   ],
   "source": [
    "# obtain true IE labels\n",
    "check = process_dataset('soe22_dc.sas7bdat', 'soe2022_labelledv1.csv')"
   ]
  },
  {
   "cell_type": "code",
   "execution_count": 6,
   "id": "80924c59-3217-4425-bce5-9ec46c45accb",
   "metadata": {},
   "outputs": [
    {
     "data": {
      "text/html": [
       "<div>\n",
       "<style scoped>\n",
       "    .dataframe tbody tr th:only-of-type {\n",
       "        vertical-align: middle;\n",
       "    }\n",
       "\n",
       "    .dataframe tbody tr th {\n",
       "        vertical-align: top;\n",
       "    }\n",
       "\n",
       "    .dataframe thead th {\n",
       "        text-align: right;\n",
       "    }\n",
       "</style>\n",
       "<table border=\"1\" class=\"dataframe\">\n",
       "  <thead>\n",
       "    <tr style=\"text-align: right;\">\n",
       "      <th></th>\n",
       "      <th>UEN</th>\n",
       "      <th>ONLINE_PRESENCE_IND</th>\n",
       "      <th>CORPORATE_URL_IND</th>\n",
       "      <th>ECOM_REV</th>\n",
       "      <th>ECOM_REV_IND</th>\n",
       "      <th>TRUE_IE</th>\n",
       "    </tr>\n",
       "  </thead>\n",
       "  <tbody>\n",
       "    <tr>\n",
       "      <th>0</th>\n",
       "      <td>00119300K</td>\n",
       "      <td>1.0</td>\n",
       "      <td>0.0</td>\n",
       "      <td>0.0</td>\n",
       "      <td>0.0</td>\n",
       "      <td>B</td>\n",
       "    </tr>\n",
       "    <tr>\n",
       "      <th>2</th>\n",
       "      <td>00277200X</td>\n",
       "      <td>1.0</td>\n",
       "      <td>1.0</td>\n",
       "      <td>250000.0</td>\n",
       "      <td>1.0</td>\n",
       "      <td>C</td>\n",
       "    </tr>\n",
       "    <tr>\n",
       "      <th>5</th>\n",
       "      <td>02484100E</td>\n",
       "      <td>1.0</td>\n",
       "      <td>1.0</td>\n",
       "      <td>0.0</td>\n",
       "      <td>0.0</td>\n",
       "      <td>B</td>\n",
       "    </tr>\n",
       "    <tr>\n",
       "      <th>7</th>\n",
       "      <td>03317900W</td>\n",
       "      <td>1.0</td>\n",
       "      <td>1.0</td>\n",
       "      <td>180000.0</td>\n",
       "      <td>1.0</td>\n",
       "      <td>C</td>\n",
       "    </tr>\n",
       "    <tr>\n",
       "      <th>8</th>\n",
       "      <td>03442400L</td>\n",
       "      <td>1.0</td>\n",
       "      <td>0.0</td>\n",
       "      <td>5000.0</td>\n",
       "      <td>1.0</td>\n",
       "      <td>C</td>\n",
       "    </tr>\n",
       "  </tbody>\n",
       "</table>\n",
       "</div>"
      ],
      "text/plain": [
       "         UEN  ONLINE_PRESENCE_IND  CORPORATE_URL_IND  ECOM_REV  ECOM_REV_IND  \\\n",
       "0  00119300K                  1.0                0.0       0.0           0.0   \n",
       "2  00277200X                  1.0                1.0  250000.0           1.0   \n",
       "5  02484100E                  1.0                1.0       0.0           0.0   \n",
       "7  03317900W                  1.0                1.0  180000.0           1.0   \n",
       "8  03442400L                  1.0                0.0    5000.0           1.0   \n",
       "\n",
       "  TRUE_IE  \n",
       "0       B  \n",
       "2       C  \n",
       "5       B  \n",
       "7       C  \n",
       "8       C  "
      ]
     },
     "execution_count": 6,
     "metadata": {},
     "output_type": "execute_result"
    }
   ],
   "source": [
    "check.head()"
   ]
  },
  {
   "cell_type": "code",
   "execution_count": 7,
   "id": "2193d6b4-b737-4135-baea-733d5bfd20ea",
   "metadata": {},
   "outputs": [
    {
     "data": {
      "text/plain": [
       "TRUE_IE\n",
       "B    0.626342\n",
       "C    0.373658\n",
       "Name: proportion, dtype: float64"
      ]
     },
     "execution_count": 7,
     "metadata": {},
     "output_type": "execute_result"
    }
   ],
   "source": [
    "check['TRUE_IE'].value_counts(normalize=True)"
   ]
  },
  {
   "cell_type": "code",
   "execution_count": 8,
   "id": "941bce30-1c99-4729-b738-466928d08337",
   "metadata": {
    "tags": []
   },
   "outputs": [
    {
     "data": {
      "text/plain": [
       "array(['B', 'C'], dtype=object)"
      ]
     },
     "execution_count": 8,
     "metadata": {},
     "output_type": "execute_result"
    }
   ],
   "source": [
    "check['TRUE_IE'].unique()"
   ]
  },
  {
   "cell_type": "markdown",
   "id": "c73d1449-ee21-41c3-9e1d-7864cbe31e33",
   "metadata": {},
   "source": [
    "## Manual website imputation with SOE data"
   ]
  },
  {
   "cell_type": "code",
   "execution_count": 9,
   "id": "d40e14b6-1268-4b1d-825b-4f243a983136",
   "metadata": {
    "tags": []
   },
   "outputs": [],
   "source": [
    "df2022, df2023 = imputation_v1('ie2022_imputed.csv', 'ie2023_imputed.csv')"
   ]
  },
  {
   "cell_type": "code",
   "execution_count": 10,
   "id": "e82ceb8a-9664-436c-b18c-a39be99466a1",
   "metadata": {
    "tags": []
   },
   "outputs": [
    {
     "data": {
      "text/html": [
       "<div>\n",
       "<style scoped>\n",
       "    .dataframe tbody tr th:only-of-type {\n",
       "        vertical-align: middle;\n",
       "    }\n",
       "\n",
       "    .dataframe tbody tr th {\n",
       "        vertical-align: top;\n",
       "    }\n",
       "\n",
       "    .dataframe thead th {\n",
       "        text-align: right;\n",
       "    }\n",
       "</style>\n",
       "<table border=\"1\" class=\"dataframe\">\n",
       "  <thead>\n",
       "    <tr style=\"text-align: right;\">\n",
       "      <th></th>\n",
       "      <th>IE_IND</th>\n",
       "      <th>Base_IND</th>\n",
       "      <th>Remarks</th>\n",
       "      <th>SOURCE</th>\n",
       "      <th>IMPUTE_TYPE</th>\n",
       "      <th>FINAL_IE</th>\n",
       "      <th>UEN</th>\n",
       "      <th>CLUSTER_DEFN</th>\n",
       "      <th>OR_CAT</th>\n",
       "      <th>EMP_SIZE</th>\n",
       "      <th>TOT_EMP</th>\n",
       "      <th>REF_YR</th>\n",
       "      <th>EA_IND</th>\n",
       "      <th>FLAD_OR</th>\n",
       "      <th>OWNERSHIP_IND</th>\n",
       "      <th>TOPLINE_IND</th>\n",
       "      <th>New_ENTP_IND</th>\n",
       "      <th>Age_Band</th>\n",
       "      <th>NSME_IND</th>\n",
       "    </tr>\n",
       "  </thead>\n",
       "  <tbody>\n",
       "    <tr>\n",
       "      <th>0</th>\n",
       "      <td>0</td>\n",
       "      <td>1</td>\n",
       "      <td>NaN</td>\n",
       "      <td>NaN</td>\n",
       "      <td>NaN</td>\n",
       "      <td>A</td>\n",
       "      <td>00016800M</td>\n",
       "      <td>11 Wholesale</td>\n",
       "      <td>&lt;=1mil</td>\n",
       "      <td>01. Employees &lt;= 10</td>\n",
       "      <td>1.0</td>\n",
       "      <td>2022</td>\n",
       "      <td>1.0</td>\n",
       "      <td>182227.0</td>\n",
       "      <td>1.LOCAL</td>\n",
       "      <td>1</td>\n",
       "      <td>NaN</td>\n",
       "      <td>&gt; 30 Years</td>\n",
       "      <td>0</td>\n",
       "    </tr>\n",
       "    <tr>\n",
       "      <th>1</th>\n",
       "      <td>0</td>\n",
       "      <td>1</td>\n",
       "      <td>NaN</td>\n",
       "      <td>NaN</td>\n",
       "      <td>NaN</td>\n",
       "      <td>A</td>\n",
       "      <td>00020100J</td>\n",
       "      <td>21 Other Services Industries</td>\n",
       "      <td>&lt;=1mil</td>\n",
       "      <td>01. Employees &lt;= 10</td>\n",
       "      <td>2.0</td>\n",
       "      <td>2022</td>\n",
       "      <td>1.0</td>\n",
       "      <td>226970.0</td>\n",
       "      <td>1.LOCAL</td>\n",
       "      <td>1</td>\n",
       "      <td>NaN</td>\n",
       "      <td>&gt; 30 Years</td>\n",
       "      <td>0</td>\n",
       "    </tr>\n",
       "    <tr>\n",
       "      <th>2</th>\n",
       "      <td>1</td>\n",
       "      <td>1</td>\n",
       "      <td>NaN</td>\n",
       "      <td>GMAP</td>\n",
       "      <td>NaN</td>\n",
       "      <td>C1</td>\n",
       "      <td>00022500B</td>\n",
       "      <td>21 Other Services Industries</td>\n",
       "      <td>&lt;=1mil</td>\n",
       "      <td>Missing EMP</td>\n",
       "      <td>NaN</td>\n",
       "      <td>2022</td>\n",
       "      <td>1.0</td>\n",
       "      <td>70400.0</td>\n",
       "      <td>1.LOCAL</td>\n",
       "      <td>1</td>\n",
       "      <td>NaN</td>\n",
       "      <td>&gt; 30 Years</td>\n",
       "      <td>0</td>\n",
       "    </tr>\n",
       "    <tr>\n",
       "      <th>3</th>\n",
       "      <td>1</td>\n",
       "      <td>1</td>\n",
       "      <td>NaN</td>\n",
       "      <td>ORBIS</td>\n",
       "      <td>NaN</td>\n",
       "      <td>B1</td>\n",
       "      <td>00027700B</td>\n",
       "      <td>11 Wholesale</td>\n",
       "      <td>&lt;=1mil</td>\n",
       "      <td>01. Employees &lt;= 10</td>\n",
       "      <td>2.0</td>\n",
       "      <td>2022</td>\n",
       "      <td>1.0</td>\n",
       "      <td>479282.0</td>\n",
       "      <td>1.LOCAL</td>\n",
       "      <td>1</td>\n",
       "      <td>NaN</td>\n",
       "      <td>&gt; 30 Years</td>\n",
       "      <td>0</td>\n",
       "    </tr>\n",
       "    <tr>\n",
       "      <th>4</th>\n",
       "      <td>0</td>\n",
       "      <td>1</td>\n",
       "      <td>NaN</td>\n",
       "      <td>NaN</td>\n",
       "      <td>NaN</td>\n",
       "      <td>A</td>\n",
       "      <td>00045500L</td>\n",
       "      <td>11 Wholesale</td>\n",
       "      <td>&lt;=1mil</td>\n",
       "      <td>Missing EMP</td>\n",
       "      <td>NaN</td>\n",
       "      <td>2022</td>\n",
       "      <td>1.0</td>\n",
       "      <td>602854.0</td>\n",
       "      <td>1.LOCAL</td>\n",
       "      <td>1</td>\n",
       "      <td>NaN</td>\n",
       "      <td>&gt; 30 Years</td>\n",
       "      <td>0</td>\n",
       "    </tr>\n",
       "  </tbody>\n",
       "</table>\n",
       "</div>"
      ],
      "text/plain": [
       "   IE_IND  Base_IND  Remarks SOURCE IMPUTE_TYPE FINAL_IE        UEN  \\\n",
       "0       0         1      NaN    NaN         NaN        A  00016800M   \n",
       "1       0         1      NaN    NaN         NaN        A  00020100J   \n",
       "2       1         1      NaN   GMAP         NaN       C1  00022500B   \n",
       "3       1         1      NaN  ORBIS         NaN       B1  00027700B   \n",
       "4       0         1      NaN    NaN         NaN        A  00045500L   \n",
       "\n",
       "                   CLUSTER_DEFN  OR_CAT             EMP_SIZE  TOT_EMP  REF_YR  \\\n",
       "0                  11 Wholesale  <=1mil  01. Employees <= 10      1.0    2022   \n",
       "1  21 Other Services Industries  <=1mil  01. Employees <= 10      2.0    2022   \n",
       "2  21 Other Services Industries  <=1mil          Missing EMP      NaN    2022   \n",
       "3                  11 Wholesale  <=1mil  01. Employees <= 10      2.0    2022   \n",
       "4                  11 Wholesale  <=1mil          Missing EMP      NaN    2022   \n",
       "\n",
       "   EA_IND   FLAD_OR OWNERSHIP_IND  TOPLINE_IND  New_ENTP_IND    Age_Band  \\\n",
       "0     1.0  182227.0       1.LOCAL            1           NaN  > 30 Years   \n",
       "1     1.0  226970.0       1.LOCAL            1           NaN  > 30 Years   \n",
       "2     1.0   70400.0       1.LOCAL            1           NaN  > 30 Years   \n",
       "3     1.0  479282.0       1.LOCAL            1           NaN  > 30 Years   \n",
       "4     1.0  602854.0       1.LOCAL            1           NaN  > 30 Years   \n",
       "\n",
       "   NSME_IND  \n",
       "0         0  \n",
       "1         0  \n",
       "2         0  \n",
       "3         0  \n",
       "4         0  "
      ]
     },
     "execution_count": 10,
     "metadata": {},
     "output_type": "execute_result"
    }
   ],
   "source": [
    "df2022.head()"
   ]
  },
  {
   "cell_type": "code",
   "execution_count": 11,
   "id": "9af4d7c1-0063-4e10-8464-ba597bf77ad4",
   "metadata": {
    "tags": []
   },
   "outputs": [
    {
     "data": {
      "text/html": [
       "<div>\n",
       "<style scoped>\n",
       "    .dataframe tbody tr th:only-of-type {\n",
       "        vertical-align: middle;\n",
       "    }\n",
       "\n",
       "    .dataframe tbody tr th {\n",
       "        vertical-align: top;\n",
       "    }\n",
       "\n",
       "    .dataframe thead th {\n",
       "        text-align: right;\n",
       "    }\n",
       "</style>\n",
       "<table border=\"1\" class=\"dataframe\">\n",
       "  <thead>\n",
       "    <tr style=\"text-align: right;\">\n",
       "      <th></th>\n",
       "      <th>IE_IND</th>\n",
       "      <th>UEN</th>\n",
       "      <th>REF_YR</th>\n",
       "      <th>CLUSTER_DEFN</th>\n",
       "      <th>OR_CAT</th>\n",
       "      <th>NSME_IND</th>\n",
       "      <th>Age_Band</th>\n",
       "      <th>FINAL_IE</th>\n",
       "      <th>SOURCE</th>\n",
       "      <th>IE_compare</th>\n",
       "      <th>TOPLINE_IND</th>\n",
       "    </tr>\n",
       "  </thead>\n",
       "  <tbody>\n",
       "    <tr>\n",
       "      <th>0</th>\n",
       "      <td>1</td>\n",
       "      <td>199601595D</td>\n",
       "      <td>2023</td>\n",
       "      <td>11 Wholesale</td>\n",
       "      <td>Above 100mil</td>\n",
       "      <td>0</td>\n",
       "      <td>20 to &lt;= 30 Years</td>\n",
       "      <td>B</td>\n",
       "      <td>ORBIS</td>\n",
       "      <td>website</td>\n",
       "      <td>1</td>\n",
       "    </tr>\n",
       "    <tr>\n",
       "      <th>1</th>\n",
       "      <td>1</td>\n",
       "      <td>201017488D</td>\n",
       "      <td>2023</td>\n",
       "      <td>17 Finance &amp; Insurance</td>\n",
       "      <td>Above 100mil</td>\n",
       "      <td>0</td>\n",
       "      <td>10 to &lt;= 20 Years</td>\n",
       "      <td>B</td>\n",
       "      <td>ORBIS</td>\n",
       "      <td>website</td>\n",
       "      <td>1</td>\n",
       "    </tr>\n",
       "    <tr>\n",
       "      <th>2</th>\n",
       "      <td>1</td>\n",
       "      <td>198903166R</td>\n",
       "      <td>2023</td>\n",
       "      <td>11 Wholesale</td>\n",
       "      <td>Above 100mil</td>\n",
       "      <td>0</td>\n",
       "      <td>&gt; 30 Years</td>\n",
       "      <td>C</td>\n",
       "      <td>ORBIS</td>\n",
       "      <td>website</td>\n",
       "      <td>1</td>\n",
       "    </tr>\n",
       "    <tr>\n",
       "      <th>3</th>\n",
       "      <td>1</td>\n",
       "      <td>199904785Z</td>\n",
       "      <td>2023</td>\n",
       "      <td>17 Finance &amp; Insurance</td>\n",
       "      <td>10mil -&lt;= 100mil</td>\n",
       "      <td>0</td>\n",
       "      <td>20 to &lt;= 30 Years</td>\n",
       "      <td>B</td>\n",
       "      <td>ORBIS</td>\n",
       "      <td>website</td>\n",
       "      <td>1</td>\n",
       "    </tr>\n",
       "    <tr>\n",
       "      <th>4</th>\n",
       "      <td>1</td>\n",
       "      <td>197401143C</td>\n",
       "      <td>2023</td>\n",
       "      <td>17 Finance &amp; Insurance</td>\n",
       "      <td>Above 100mil</td>\n",
       "      <td>0</td>\n",
       "      <td>&gt; 30 Years</td>\n",
       "      <td>C</td>\n",
       "      <td>ORBIS</td>\n",
       "      <td>website</td>\n",
       "      <td>1</td>\n",
       "    </tr>\n",
       "  </tbody>\n",
       "</table>\n",
       "</div>"
      ],
      "text/plain": [
       "   IE_IND         UEN  REF_YR            CLUSTER_DEFN            OR_CAT  \\\n",
       "0       1  199601595D    2023            11 Wholesale      Above 100mil   \n",
       "1       1  201017488D    2023  17 Finance & Insurance      Above 100mil   \n",
       "2       1  198903166R    2023            11 Wholesale      Above 100mil   \n",
       "3       1  199904785Z    2023  17 Finance & Insurance  10mil -<= 100mil   \n",
       "4       1  197401143C    2023  17 Finance & Insurance      Above 100mil   \n",
       "\n",
       "   NSME_IND           Age_Band FINAL_IE SOURCE IE_compare  TOPLINE_IND  \n",
       "0         0  20 to <= 30 Years        B  ORBIS    website            1  \n",
       "1         0  10 to <= 20 Years        B  ORBIS    website            1  \n",
       "2         0         > 30 Years        C  ORBIS    website            1  \n",
       "3         0  20 to <= 30 Years        B  ORBIS    website            1  \n",
       "4         0         > 30 Years        C  ORBIS    website            1  "
      ]
     },
     "execution_count": 11,
     "metadata": {},
     "output_type": "execute_result"
    }
   ],
   "source": [
    "df2023.head()"
   ]
  },
  {
   "cell_type": "markdown",
   "id": "a8e27117-46ed-4618-b6e5-4e74f7d73e89",
   "metadata": {},
   "source": [
    "## Merge in keywords to Train & Test sets\n",
    "- **Training set:** SOE dataset\n",
    "- **Test/Inference set:** IE2022, IE2023 datasets"
   ]
  },
  {
   "cell_type": "code",
   "execution_count": 12,
   "id": "99c5372c-9d95-4856-89e6-409679b3a5f8",
   "metadata": {
    "tags": []
   },
   "outputs": [
    {
     "name": "stdout",
     "output_type": "stream",
     "text": [
      "The autoreload extension is already loaded. To reload it, use:\n",
      "  %reload_ext autoreload\n"
     ]
    }
   ],
   "source": [
    "%load_ext autoreload\n",
    "%autoreload 2"
   ]
  },
  {
   "cell_type": "code",
   "execution_count": 13,
   "id": "a2193037-f86c-47a7-a79b-651cf39038e5",
   "metadata": {
    "tags": []
   },
   "outputs": [],
   "source": [
    "from dataset import create_train_test_sets"
   ]
  },
  {
   "cell_type": "code",
   "execution_count": 14,
   "id": "57535d82-4b99-4f51-a5ea-b4dbdc774372",
   "metadata": {},
   "outputs": [],
   "source": [
    "train, test2022 = create_train_test_sets()"
   ]
  },
  {
   "cell_type": "code",
   "execution_count": 15,
   "id": "a61bc4b9-abb2-41c0-9342-2fad92f2ae9b",
   "metadata": {
    "tags": []
   },
   "outputs": [
    {
     "data": {
      "text/plain": [
       "2872"
      ]
     },
     "execution_count": 15,
     "metadata": {},
     "output_type": "execute_result"
    }
   ],
   "source": [
    "len(train)"
   ]
  },
  {
   "cell_type": "code",
   "execution_count": 32,
   "id": "689992ee-916e-490f-baa0-9605dc1bd644",
   "metadata": {
    "tags": []
   },
   "outputs": [
    {
     "data": {
      "text/html": [
       "<div>\n",
       "<style scoped>\n",
       "    .dataframe tbody tr th:only-of-type {\n",
       "        vertical-align: middle;\n",
       "    }\n",
       "\n",
       "    .dataframe tbody tr th {\n",
       "        vertical-align: top;\n",
       "    }\n",
       "\n",
       "    .dataframe thead th {\n",
       "        text-align: right;\n",
       "    }\n",
       "</style>\n",
       "<table border=\"1\" class=\"dataframe\">\n",
       "  <thead>\n",
       "    <tr style=\"text-align: right;\">\n",
       "      <th></th>\n",
       "      <th>UEN</th>\n",
       "      <th>TRUE_IE</th>\n",
       "      <th>$</th>\n",
       "      <th>account</th>\n",
       "      <th>accreditation</th>\n",
       "      <th>add card</th>\n",
       "      <th>add to bag</th>\n",
       "      <th>add to cart</th>\n",
       "      <th>advert</th>\n",
       "      <th>adwords</th>\n",
       "      <th>...</th>\n",
       "      <th>wallet</th>\n",
       "      <th>web design</th>\n",
       "      <th>webdesign</th>\n",
       "      <th>what we do</th>\n",
       "      <th>wishlist</th>\n",
       "      <th>wix</th>\n",
       "      <th>woocommerce</th>\n",
       "      <th>youtube</th>\n",
       "      <th>predict</th>\n",
       "      <th>sum</th>\n",
       "    </tr>\n",
       "  </thead>\n",
       "  <tbody>\n",
       "    <tr>\n",
       "      <th>0</th>\n",
       "      <td>00119300K</td>\n",
       "      <td>B</td>\n",
       "      <td>53</td>\n",
       "      <td>18</td>\n",
       "      <td>3</td>\n",
       "      <td>3</td>\n",
       "      <td>3</td>\n",
       "      <td>10</td>\n",
       "      <td>3</td>\n",
       "      <td>3</td>\n",
       "      <td>...</td>\n",
       "      <td>12</td>\n",
       "      <td>3</td>\n",
       "      <td>3</td>\n",
       "      <td>3</td>\n",
       "      <td>3</td>\n",
       "      <td>3</td>\n",
       "      <td>3</td>\n",
       "      <td>3</td>\n",
       "      <td>3.0</td>\n",
       "      <td>7200.0</td>\n",
       "    </tr>\n",
       "    <tr>\n",
       "      <th>1</th>\n",
       "      <td>00277200X</td>\n",
       "      <td>C</td>\n",
       "      <td>0</td>\n",
       "      <td>0</td>\n",
       "      <td>0</td>\n",
       "      <td>0</td>\n",
       "      <td>0</td>\n",
       "      <td>0</td>\n",
       "      <td>0</td>\n",
       "      <td>0</td>\n",
       "      <td>...</td>\n",
       "      <td>0</td>\n",
       "      <td>0</td>\n",
       "      <td>0</td>\n",
       "      <td>0</td>\n",
       "      <td>0</td>\n",
       "      <td>0</td>\n",
       "      <td>0</td>\n",
       "      <td>0</td>\n",
       "      <td>0.0</td>\n",
       "      <td>0.0</td>\n",
       "    </tr>\n",
       "    <tr>\n",
       "      <th>2</th>\n",
       "      <td>00277200X</td>\n",
       "      <td>C</td>\n",
       "      <td>0</td>\n",
       "      <td>0</td>\n",
       "      <td>0</td>\n",
       "      <td>0</td>\n",
       "      <td>0</td>\n",
       "      <td>0</td>\n",
       "      <td>0</td>\n",
       "      <td>0</td>\n",
       "      <td>...</td>\n",
       "      <td>0</td>\n",
       "      <td>0</td>\n",
       "      <td>0</td>\n",
       "      <td>0</td>\n",
       "      <td>0</td>\n",
       "      <td>0</td>\n",
       "      <td>0</td>\n",
       "      <td>0</td>\n",
       "      <td>0.0</td>\n",
       "      <td>0.0</td>\n",
       "    </tr>\n",
       "    <tr>\n",
       "      <th>3</th>\n",
       "      <td>00277200X</td>\n",
       "      <td>C</td>\n",
       "      <td>0</td>\n",
       "      <td>0</td>\n",
       "      <td>0</td>\n",
       "      <td>0</td>\n",
       "      <td>0</td>\n",
       "      <td>0</td>\n",
       "      <td>0</td>\n",
       "      <td>0</td>\n",
       "      <td>...</td>\n",
       "      <td>0</td>\n",
       "      <td>0</td>\n",
       "      <td>0</td>\n",
       "      <td>0</td>\n",
       "      <td>0</td>\n",
       "      <td>0</td>\n",
       "      <td>0</td>\n",
       "      <td>0</td>\n",
       "      <td>0.0</td>\n",
       "      <td>0.0</td>\n",
       "    </tr>\n",
       "    <tr>\n",
       "      <th>4</th>\n",
       "      <td>02484100E</td>\n",
       "      <td>B</td>\n",
       "      <td>1</td>\n",
       "      <td>1</td>\n",
       "      <td>1</td>\n",
       "      <td>1</td>\n",
       "      <td>1</td>\n",
       "      <td>1</td>\n",
       "      <td>1</td>\n",
       "      <td>1</td>\n",
       "      <td>...</td>\n",
       "      <td>1</td>\n",
       "      <td>1</td>\n",
       "      <td>1</td>\n",
       "      <td>1</td>\n",
       "      <td>1</td>\n",
       "      <td>1</td>\n",
       "      <td>1</td>\n",
       "      <td>1</td>\n",
       "      <td>0.0</td>\n",
       "      <td>215.0</td>\n",
       "    </tr>\n",
       "  </tbody>\n",
       "</table>\n",
       "<p>5 rows × 219 columns</p>\n",
       "</div>"
      ],
      "text/plain": [
       "         UEN TRUE_IE   $  account  accreditation  add card  add to bag  \\\n",
       "0  00119300K       B  53       18              3         3           3   \n",
       "1  00277200X       C   0        0              0         0           0   \n",
       "2  00277200X       C   0        0              0         0           0   \n",
       "3  00277200X       C   0        0              0         0           0   \n",
       "4  02484100E       B   1        1              1         1           1   \n",
       "\n",
       "   add to cart  advert  adwords  ...  wallet  web design  webdesign  \\\n",
       "0           10       3        3  ...      12           3          3   \n",
       "1            0       0        0  ...       0           0          0   \n",
       "2            0       0        0  ...       0           0          0   \n",
       "3            0       0        0  ...       0           0          0   \n",
       "4            1       1        1  ...       1           1          1   \n",
       "\n",
       "   what we do  wishlist  wix  woocommerce  youtube  predict     sum  \n",
       "0           3         3    3            3        3      3.0  7200.0  \n",
       "1           0         0    0            0        0      0.0     0.0  \n",
       "2           0         0    0            0        0      0.0     0.0  \n",
       "3           0         0    0            0        0      0.0     0.0  \n",
       "4           1         1    1            1        1      0.0   215.0  \n",
       "\n",
       "[5 rows x 219 columns]"
      ]
     },
     "execution_count": 32,
     "metadata": {},
     "output_type": "execute_result"
    }
   ],
   "source": [
    "train.head()"
   ]
  },
  {
   "cell_type": "code",
   "execution_count": 19,
   "id": "60b149b6-5538-4f14-b694-ff5bd9aef211",
   "metadata": {
    "tags": []
   },
   "outputs": [
    {
     "data": {
      "text/plain": [
       "TRUE_IE\n",
       "B    0.597145\n",
       "C    0.402855\n",
       "Name: proportion, dtype: float64"
      ]
     },
     "execution_count": 19,
     "metadata": {},
     "output_type": "execute_result"
    }
   ],
   "source": [
    "# Look into train set class label distribution\n",
    "train[\"TRUE_IE\"].value_counts(normalize=True)"
   ]
  },
  {
   "cell_type": "code",
   "execution_count": 16,
   "id": "d878ddbd-f2da-4cd2-99cd-1199cb1b0a39",
   "metadata": {
    "tags": []
   },
   "outputs": [
    {
     "data": {
      "text/html": [
       "<div>\n",
       "<style scoped>\n",
       "    .dataframe tbody tr th:only-of-type {\n",
       "        vertical-align: middle;\n",
       "    }\n",
       "\n",
       "    .dataframe tbody tr th {\n",
       "        vertical-align: top;\n",
       "    }\n",
       "\n",
       "    .dataframe thead th {\n",
       "        text-align: right;\n",
       "    }\n",
       "</style>\n",
       "<table border=\"1\" class=\"dataframe\">\n",
       "  <thead>\n",
       "    <tr style=\"text-align: right;\">\n",
       "      <th></th>\n",
       "      <th>UEN</th>\n",
       "      <th>$</th>\n",
       "      <th>account</th>\n",
       "      <th>accreditation</th>\n",
       "      <th>add card</th>\n",
       "      <th>add to bag</th>\n",
       "      <th>add to cart</th>\n",
       "      <th>advert</th>\n",
       "      <th>adwords</th>\n",
       "      <th>alipay</th>\n",
       "      <th>...</th>\n",
       "      <th>wallet</th>\n",
       "      <th>web design</th>\n",
       "      <th>webdesign</th>\n",
       "      <th>what we do</th>\n",
       "      <th>wishlist</th>\n",
       "      <th>wix</th>\n",
       "      <th>woocommerce</th>\n",
       "      <th>youtube</th>\n",
       "      <th>predict</th>\n",
       "      <th>sum</th>\n",
       "    </tr>\n",
       "  </thead>\n",
       "  <tbody>\n",
       "    <tr>\n",
       "      <th>0</th>\n",
       "      <td>00022500B</td>\n",
       "      <td>16</td>\n",
       "      <td>8</td>\n",
       "      <td>2</td>\n",
       "      <td>2</td>\n",
       "      <td>2</td>\n",
       "      <td>2</td>\n",
       "      <td>15</td>\n",
       "      <td>2</td>\n",
       "      <td>2</td>\n",
       "      <td>...</td>\n",
       "      <td>2</td>\n",
       "      <td>2</td>\n",
       "      <td>2</td>\n",
       "      <td>2</td>\n",
       "      <td>2</td>\n",
       "      <td>2</td>\n",
       "      <td>2</td>\n",
       "      <td>2</td>\n",
       "      <td>3</td>\n",
       "      <td>2089</td>\n",
       "    </tr>\n",
       "    <tr>\n",
       "      <th>1</th>\n",
       "      <td>00027700B</td>\n",
       "      <td>4</td>\n",
       "      <td>2</td>\n",
       "      <td>2</td>\n",
       "      <td>2</td>\n",
       "      <td>2</td>\n",
       "      <td>2</td>\n",
       "      <td>2</td>\n",
       "      <td>2</td>\n",
       "      <td>2</td>\n",
       "      <td>...</td>\n",
       "      <td>2</td>\n",
       "      <td>2</td>\n",
       "      <td>2</td>\n",
       "      <td>2</td>\n",
       "      <td>2</td>\n",
       "      <td>2</td>\n",
       "      <td>2</td>\n",
       "      <td>2</td>\n",
       "      <td>1</td>\n",
       "      <td>1018</td>\n",
       "    </tr>\n",
       "    <tr>\n",
       "      <th>2</th>\n",
       "      <td>00027700B</td>\n",
       "      <td>4</td>\n",
       "      <td>2</td>\n",
       "      <td>2</td>\n",
       "      <td>2</td>\n",
       "      <td>2</td>\n",
       "      <td>2</td>\n",
       "      <td>2</td>\n",
       "      <td>2</td>\n",
       "      <td>2</td>\n",
       "      <td>...</td>\n",
       "      <td>2</td>\n",
       "      <td>2</td>\n",
       "      <td>2</td>\n",
       "      <td>2</td>\n",
       "      <td>2</td>\n",
       "      <td>2</td>\n",
       "      <td>2</td>\n",
       "      <td>2</td>\n",
       "      <td>1</td>\n",
       "      <td>1018</td>\n",
       "    </tr>\n",
       "    <tr>\n",
       "      <th>3</th>\n",
       "      <td>00027700B</td>\n",
       "      <td>4</td>\n",
       "      <td>2</td>\n",
       "      <td>2</td>\n",
       "      <td>2</td>\n",
       "      <td>2</td>\n",
       "      <td>2</td>\n",
       "      <td>2</td>\n",
       "      <td>2</td>\n",
       "      <td>2</td>\n",
       "      <td>...</td>\n",
       "      <td>2</td>\n",
       "      <td>2</td>\n",
       "      <td>2</td>\n",
       "      <td>2</td>\n",
       "      <td>2</td>\n",
       "      <td>2</td>\n",
       "      <td>2</td>\n",
       "      <td>2</td>\n",
       "      <td>1</td>\n",
       "      <td>1018</td>\n",
       "    </tr>\n",
       "    <tr>\n",
       "      <th>4</th>\n",
       "      <td>00064600L</td>\n",
       "      <td>3</td>\n",
       "      <td>9</td>\n",
       "      <td>3</td>\n",
       "      <td>3</td>\n",
       "      <td>3</td>\n",
       "      <td>3</td>\n",
       "      <td>3</td>\n",
       "      <td>3</td>\n",
       "      <td>3</td>\n",
       "      <td>...</td>\n",
       "      <td>3</td>\n",
       "      <td>6</td>\n",
       "      <td>3</td>\n",
       "      <td>3</td>\n",
       "      <td>3</td>\n",
       "      <td>3</td>\n",
       "      <td>87</td>\n",
       "      <td>3</td>\n",
       "      <td>1</td>\n",
       "      <td>4207</td>\n",
       "    </tr>\n",
       "  </tbody>\n",
       "</table>\n",
       "<p>5 rows × 218 columns</p>\n",
       "</div>"
      ],
      "text/plain": [
       "         UEN   $  account  accreditation  add card  add to bag  add to cart  \\\n",
       "0  00022500B  16        8              2         2           2            2   \n",
       "1  00027700B   4        2              2         2           2            2   \n",
       "2  00027700B   4        2              2         2           2            2   \n",
       "3  00027700B   4        2              2         2           2            2   \n",
       "4  00064600L   3        9              3         3           3            3   \n",
       "\n",
       "   advert  adwords  alipay  ...  wallet  web design  webdesign  what we do  \\\n",
       "0      15        2       2  ...       2           2          2           2   \n",
       "1       2        2       2  ...       2           2          2           2   \n",
       "2       2        2       2  ...       2           2          2           2   \n",
       "3       2        2       2  ...       2           2          2           2   \n",
       "4       3        3       3  ...       3           6          3           3   \n",
       "\n",
       "   wishlist  wix  woocommerce  youtube  predict   sum  \n",
       "0         2    2            2        2        3  2089  \n",
       "1         2    2            2        2        1  1018  \n",
       "2         2    2            2        2        1  1018  \n",
       "3         2    2            2        2        1  1018  \n",
       "4         3    3           87        3        1  4207  \n",
       "\n",
       "[5 rows x 218 columns]"
      ]
     },
     "execution_count": 16,
     "metadata": {},
     "output_type": "execute_result"
    }
   ],
   "source": [
    "test2022.head()"
   ]
  },
  {
   "cell_type": "code",
   "execution_count": 17,
   "id": "89e58e6a-146e-4f1c-aa58-94603a5a155a",
   "metadata": {
    "tags": []
   },
   "outputs": [
    {
     "data": {
      "text/plain": [
       "179423"
      ]
     },
     "execution_count": 17,
     "metadata": {},
     "output_type": "execute_result"
    }
   ],
   "source": [
    "len(test2022)"
   ]
  },
  {
   "cell_type": "code",
   "execution_count": null,
   "id": "aa5a54fb-2fb8-4ba9-8a71-d2f66d6bc083",
   "metadata": {},
   "outputs": [],
   "source": []
  }
 ],
 "metadata": {
  "kernelspec": {
   "display_name": "Python 3 (ipykernel)",
   "language": "python",
   "name": "python3"
  },
  "language_info": {
   "codemirror_mode": {
    "name": "ipython",
    "version": 3
   },
   "file_extension": ".py",
   "mimetype": "text/x-python",
   "name": "python",
   "nbconvert_exporter": "python",
   "pygments_lexer": "ipython3",
   "version": "3.9.15"
  }
 },
 "nbformat": 4,
 "nbformat_minor": 5
}

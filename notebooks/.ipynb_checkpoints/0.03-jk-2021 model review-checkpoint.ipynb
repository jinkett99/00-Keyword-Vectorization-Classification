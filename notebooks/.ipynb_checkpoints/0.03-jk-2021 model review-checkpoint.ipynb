{
 "cells": [
  {
   "cell_type": "code",
   "execution_count": 1,
   "id": "73610165-25d0-49c2-983a-6ade0f0a6aa3",
   "metadata": {
    "tags": []
   },
   "outputs": [],
   "source": [
    "# add src dir to sys.path\n",
    "import sys\n",
    "sys.path.append('../src')"
   ]
  },
  {
   "cell_type": "code",
   "execution_count": 2,
   "id": "5c65bb1e-fd19-4e47-a596-94dcfe75c387",
   "metadata": {
    "tags": []
   },
   "outputs": [
    {
     "name": "stderr",
     "output_type": "stream",
     "text": [
      "2024-09-04 10:56:06,866 - config - INFO - PROJ_ROOT path is: /nas-p1/dosfs/BSD/FLAD/End_User/JKYEE/IE2023/IE_project\n"
     ]
    }
   ],
   "source": [
    "# import dependencies\n",
    "import pandas as pd\n",
    "from dataset import find_unmatched"
   ]
  },
  {
   "cell_type": "code",
   "execution_count": 8,
   "id": "31142ed2-92a0-42f6-bb1d-7832b51e692d",
   "metadata": {
    "tags": []
   },
   "outputs": [
    {
     "data": {
      "text/html": [
       "<div>\n",
       "<style scoped>\n",
       "    .dataframe tbody tr th:only-of-type {\n",
       "        vertical-align: middle;\n",
       "    }\n",
       "\n",
       "    .dataframe tbody tr th {\n",
       "        vertical-align: top;\n",
       "    }\n",
       "\n",
       "    .dataframe thead th {\n",
       "        text-align: right;\n",
       "    }\n",
       "</style>\n",
       "<table border=\"1\" class=\"dataframe\">\n",
       "  <thead>\n",
       "    <tr style=\"text-align: right;\">\n",
       "      <th></th>\n",
       "      <th>UEN</th>\n",
       "      <th>WEBSITE</th>\n",
       "      <th>SOURCES</th>\n",
       "      <th>pred_label</th>\n",
       "      <th>true_pred</th>\n",
       "    </tr>\n",
       "  </thead>\n",
       "  <tbody>\n",
       "    <tr>\n",
       "      <th>0</th>\n",
       "      <td>196300331K</td>\n",
       "      <td>www.lamsoongroup.com.sg</td>\n",
       "      <td>ORBIS</td>\n",
       "      <td>B</td>\n",
       "      <td>C</td>\n",
       "    </tr>\n",
       "    <tr>\n",
       "      <th>1</th>\n",
       "      <td>196300331K</td>\n",
       "      <td>BAKERYOWL.COM.SG</td>\n",
       "      <td>SGNIC</td>\n",
       "      <td>B</td>\n",
       "      <td>C</td>\n",
       "    </tr>\n",
       "    <tr>\n",
       "      <th>2</th>\n",
       "      <td>196300331K</td>\n",
       "      <td>BAKERYOWLS.COM.SG</td>\n",
       "      <td>SGNIC</td>\n",
       "      <td>B</td>\n",
       "      <td>C</td>\n",
       "    </tr>\n",
       "    <tr>\n",
       "      <th>3</th>\n",
       "      <td>196300331K</td>\n",
       "      <td>GROCERYOWL.COM.SG</td>\n",
       "      <td>SGNIC</td>\n",
       "      <td>B</td>\n",
       "      <td>C</td>\n",
       "    </tr>\n",
       "    <tr>\n",
       "      <th>4</th>\n",
       "      <td>196300331K</td>\n",
       "      <td>GROCERYOWLS.SG</td>\n",
       "      <td>SGNIC</td>\n",
       "      <td>B</td>\n",
       "      <td>C</td>\n",
       "    </tr>\n",
       "  </tbody>\n",
       "</table>\n",
       "</div>"
      ],
      "text/plain": [
       "          UEN                  WEBSITE SOURCES pred_label true_pred\n",
       "0  196300331K  www.lamsoongroup.com.sg   ORBIS          B         C\n",
       "1  196300331K         BAKERYOWL.COM.SG   SGNIC          B         C\n",
       "2  196300331K        BAKERYOWLS.COM.SG   SGNIC          B         C\n",
       "3  196300331K        GROCERYOWL.COM.SG   SGNIC          B         C\n",
       "4  196300331K           GROCERYOWLS.SG   SGNIC          B         C"
      ]
     },
     "execution_count": 8,
     "metadata": {},
     "output_type": "execute_result"
    }
   ],
   "source": [
    "df = pd.read_csv('../data/processed/evaluate_modelv3.csv')\n",
    "df.head()"
   ]
  },
  {
   "cell_type": "code",
   "execution_count": 9,
   "id": "5c598ae0-bd05-48d2-905e-244ad563f7a5",
   "metadata": {
    "tags": []
   },
   "outputs": [
    {
     "data": {
      "text/html": [
       "<div>\n",
       "<style scoped>\n",
       "    .dataframe tbody tr th:only-of-type {\n",
       "        vertical-align: middle;\n",
       "    }\n",
       "\n",
       "    .dataframe tbody tr th {\n",
       "        vertical-align: top;\n",
       "    }\n",
       "\n",
       "    .dataframe thead th {\n",
       "        text-align: right;\n",
       "    }\n",
       "</style>\n",
       "<table border=\"1\" class=\"dataframe\">\n",
       "  <thead>\n",
       "    <tr style=\"text-align: right;\">\n",
       "      <th></th>\n",
       "      <th>UEN</th>\n",
       "      <th>WEBSITE</th>\n",
       "      <th>SOURCES</th>\n",
       "      <th>pred_label</th>\n",
       "      <th>true_pred</th>\n",
       "    </tr>\n",
       "  </thead>\n",
       "  <tbody>\n",
       "    <tr>\n",
       "      <th>0</th>\n",
       "      <td>196300331K</td>\n",
       "      <td>www.lamsoongroup.com.sg</td>\n",
       "      <td>ORBIS</td>\n",
       "      <td>B</td>\n",
       "      <td>C</td>\n",
       "    </tr>\n",
       "    <tr>\n",
       "      <th>1</th>\n",
       "      <td>196300331K</td>\n",
       "      <td>BAKERYOWL.COM.SG</td>\n",
       "      <td>SGNIC</td>\n",
       "      <td>B</td>\n",
       "      <td>C</td>\n",
       "    </tr>\n",
       "    <tr>\n",
       "      <th>2</th>\n",
       "      <td>196300331K</td>\n",
       "      <td>BAKERYOWLS.COM.SG</td>\n",
       "      <td>SGNIC</td>\n",
       "      <td>B</td>\n",
       "      <td>C</td>\n",
       "    </tr>\n",
       "    <tr>\n",
       "      <th>3</th>\n",
       "      <td>196300331K</td>\n",
       "      <td>GROCERYOWL.COM.SG</td>\n",
       "      <td>SGNIC</td>\n",
       "      <td>B</td>\n",
       "      <td>C</td>\n",
       "    </tr>\n",
       "    <tr>\n",
       "      <th>4</th>\n",
       "      <td>196300331K</td>\n",
       "      <td>GROCERYOWLS.SG</td>\n",
       "      <td>SGNIC</td>\n",
       "      <td>B</td>\n",
       "      <td>C</td>\n",
       "    </tr>\n",
       "  </tbody>\n",
       "</table>\n",
       "</div>"
      ],
      "text/plain": [
       "          UEN                  WEBSITE SOURCES pred_label true_pred\n",
       "0  196300331K  www.lamsoongroup.com.sg   ORBIS          B         C\n",
       "1  196300331K         BAKERYOWL.COM.SG   SGNIC          B         C\n",
       "2  196300331K        BAKERYOWLS.COM.SG   SGNIC          B         C\n",
       "3  196300331K        GROCERYOWL.COM.SG   SGNIC          B         C\n",
       "4  196300331K           GROCERYOWLS.SG   SGNIC          B         C"
      ]
     },
     "execution_count": 9,
     "metadata": {},
     "output_type": "execute_result"
    }
   ],
   "source": [
    "df = find_unmatched(df, 'pred_label', 'true_pred', 'evaluate_model_unmatched.csv')\n",
    "df.head()"
   ]
  },
  {
   "cell_type": "code",
   "execution_count": null,
   "id": "a5e78a0a-502e-4e81-aa02-a3bce45a7ebb",
   "metadata": {},
   "outputs": [],
   "source": []
  }
 ],
 "metadata": {
  "kernelspec": {
   "display_name": "Python 3 (ipykernel)",
   "language": "python",
   "name": "python3"
  },
  "language_info": {
   "codemirror_mode": {
    "name": "ipython",
    "version": 3
   },
   "file_extension": ".py",
   "mimetype": "text/x-python",
   "name": "python",
   "nbconvert_exporter": "python",
   "pygments_lexer": "ipython3",
   "version": "3.9.15"
  }
 },
 "nbformat": 4,
 "nbformat_minor": 5
}
